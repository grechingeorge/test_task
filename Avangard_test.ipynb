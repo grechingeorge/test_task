{
  "nbformat": 4,
  "nbformat_minor": 0,
  "metadata": {
    "colab": {
      "provenance": []
    },
    "kernelspec": {
      "name": "python3",
      "display_name": "Python 3"
    },
    "language_info": {
      "name": "python"
    }
  },
  "cells": [
    {
      "cell_type": "code",
      "execution_count": 37,
      "metadata": {
        "id": "3683ZTljr94M"
      },
      "outputs": [],
      "source": [
        "import pandas as pd\n",
        "import matplotlib.pyplot as plt"
      ]
    },
    {
      "cell_type": "markdown",
      "source": [
        "## Задание 1"
      ],
      "metadata": {
        "id": "AONSRQFAMj_u"
      }
    },
    {
      "cell_type": "code",
      "source": [
        "df = pd.read_excel('train.xlsx')"
      ],
      "metadata": {
        "id": "iXaaweK4sLtx"
      },
      "execution_count": 38,
      "outputs": []
    },
    {
      "cell_type": "code",
      "source": [
        "df.head(15)"
      ],
      "metadata": {
        "colab": {
          "base_uri": "https://localhost:8080/",
          "height": 520
        },
        "id": "RpbN43FusUlh",
        "outputId": "93750617-538d-4c5d-e273-f5b2b151073f"
      },
      "execution_count": 39,
      "outputs": [
        {
          "output_type": "execute_result",
          "data": {
            "text/plain": [
              "      ID Order Date         Class       Region Sub-Category      Sales\n",
              "0    646 2018-12-30      Стандарт         Урал   Appliances  37229.080\n",
              "1    907 2018-12-30      Стандарт  Владивосток    Bookcases  20994.610\n",
              "2    908 2018-12-30      Стандарт  Владивосток       Phones  42133.860\n",
              "3    909 2018-12-30      Стандарт  Владивосток      Binders  10612.000\n",
              "4   1297 2018-12-30      Стандарт   Калиниград      Binders  28781.130\n",
              "5   1298 2018-12-30      Стандарт   Калиниград      Binders   7366.876\n",
              "6   5092 2018-12-30      Стандарт   Калиниград    Fasteners  42478.360\n",
              "7   1878 2018-12-29      Стандарт   Калиниград       Chairs  11542.820\n",
              "8   1879 2018-12-29      Стандарт   Калиниград       Phones   1783.405\n",
              "9   2875 2018-12-29  Первый класс  Владивосток    Fasteners  26200.090\n",
              "10  4240 2018-12-29      Стандарт         Урал        Paper  14612.860\n",
              "11  5132 2018-12-29      Стандарт   Калиниград  Furnishings  34620.870\n",
              "12  5457 2018-12-29      Стандарт   Калиниград    Fasteners  42589.860\n",
              "13  5458 2018-12-29      Стандарт   Калиниград  Furnishings  40155.940\n",
              "14  7633 2018-12-29  Второй класс       Москва       Chairs  23831.500"
            ],
            "text/html": [
              "\n",
              "  <div id=\"df-afa99734-824a-454c-ac9d-d035c2a4cdd3\" class=\"colab-df-container\">\n",
              "    <div>\n",
              "<style scoped>\n",
              "    .dataframe tbody tr th:only-of-type {\n",
              "        vertical-align: middle;\n",
              "    }\n",
              "\n",
              "    .dataframe tbody tr th {\n",
              "        vertical-align: top;\n",
              "    }\n",
              "\n",
              "    .dataframe thead th {\n",
              "        text-align: right;\n",
              "    }\n",
              "</style>\n",
              "<table border=\"1\" class=\"dataframe\">\n",
              "  <thead>\n",
              "    <tr style=\"text-align: right;\">\n",
              "      <th></th>\n",
              "      <th>ID</th>\n",
              "      <th>Order Date</th>\n",
              "      <th>Class</th>\n",
              "      <th>Region</th>\n",
              "      <th>Sub-Category</th>\n",
              "      <th>Sales</th>\n",
              "    </tr>\n",
              "  </thead>\n",
              "  <tbody>\n",
              "    <tr>\n",
              "      <th>0</th>\n",
              "      <td>646</td>\n",
              "      <td>2018-12-30</td>\n",
              "      <td>Стандарт</td>\n",
              "      <td>Урал</td>\n",
              "      <td>Appliances</td>\n",
              "      <td>37229.080</td>\n",
              "    </tr>\n",
              "    <tr>\n",
              "      <th>1</th>\n",
              "      <td>907</td>\n",
              "      <td>2018-12-30</td>\n",
              "      <td>Стандарт</td>\n",
              "      <td>Владивосток</td>\n",
              "      <td>Bookcases</td>\n",
              "      <td>20994.610</td>\n",
              "    </tr>\n",
              "    <tr>\n",
              "      <th>2</th>\n",
              "      <td>908</td>\n",
              "      <td>2018-12-30</td>\n",
              "      <td>Стандарт</td>\n",
              "      <td>Владивосток</td>\n",
              "      <td>Phones</td>\n",
              "      <td>42133.860</td>\n",
              "    </tr>\n",
              "    <tr>\n",
              "      <th>3</th>\n",
              "      <td>909</td>\n",
              "      <td>2018-12-30</td>\n",
              "      <td>Стандарт</td>\n",
              "      <td>Владивосток</td>\n",
              "      <td>Binders</td>\n",
              "      <td>10612.000</td>\n",
              "    </tr>\n",
              "    <tr>\n",
              "      <th>4</th>\n",
              "      <td>1297</td>\n",
              "      <td>2018-12-30</td>\n",
              "      <td>Стандарт</td>\n",
              "      <td>Калиниград</td>\n",
              "      <td>Binders</td>\n",
              "      <td>28781.130</td>\n",
              "    </tr>\n",
              "    <tr>\n",
              "      <th>5</th>\n",
              "      <td>1298</td>\n",
              "      <td>2018-12-30</td>\n",
              "      <td>Стандарт</td>\n",
              "      <td>Калиниград</td>\n",
              "      <td>Binders</td>\n",
              "      <td>7366.876</td>\n",
              "    </tr>\n",
              "    <tr>\n",
              "      <th>6</th>\n",
              "      <td>5092</td>\n",
              "      <td>2018-12-30</td>\n",
              "      <td>Стандарт</td>\n",
              "      <td>Калиниград</td>\n",
              "      <td>Fasteners</td>\n",
              "      <td>42478.360</td>\n",
              "    </tr>\n",
              "    <tr>\n",
              "      <th>7</th>\n",
              "      <td>1878</td>\n",
              "      <td>2018-12-29</td>\n",
              "      <td>Стандарт</td>\n",
              "      <td>Калиниград</td>\n",
              "      <td>Chairs</td>\n",
              "      <td>11542.820</td>\n",
              "    </tr>\n",
              "    <tr>\n",
              "      <th>8</th>\n",
              "      <td>1879</td>\n",
              "      <td>2018-12-29</td>\n",
              "      <td>Стандарт</td>\n",
              "      <td>Калиниград</td>\n",
              "      <td>Phones</td>\n",
              "      <td>1783.405</td>\n",
              "    </tr>\n",
              "    <tr>\n",
              "      <th>9</th>\n",
              "      <td>2875</td>\n",
              "      <td>2018-12-29</td>\n",
              "      <td>Первый класс</td>\n",
              "      <td>Владивосток</td>\n",
              "      <td>Fasteners</td>\n",
              "      <td>26200.090</td>\n",
              "    </tr>\n",
              "    <tr>\n",
              "      <th>10</th>\n",
              "      <td>4240</td>\n",
              "      <td>2018-12-29</td>\n",
              "      <td>Стандарт</td>\n",
              "      <td>Урал</td>\n",
              "      <td>Paper</td>\n",
              "      <td>14612.860</td>\n",
              "    </tr>\n",
              "    <tr>\n",
              "      <th>11</th>\n",
              "      <td>5132</td>\n",
              "      <td>2018-12-29</td>\n",
              "      <td>Стандарт</td>\n",
              "      <td>Калиниград</td>\n",
              "      <td>Furnishings</td>\n",
              "      <td>34620.870</td>\n",
              "    </tr>\n",
              "    <tr>\n",
              "      <th>12</th>\n",
              "      <td>5457</td>\n",
              "      <td>2018-12-29</td>\n",
              "      <td>Стандарт</td>\n",
              "      <td>Калиниград</td>\n",
              "      <td>Fasteners</td>\n",
              "      <td>42589.860</td>\n",
              "    </tr>\n",
              "    <tr>\n",
              "      <th>13</th>\n",
              "      <td>5458</td>\n",
              "      <td>2018-12-29</td>\n",
              "      <td>Стандарт</td>\n",
              "      <td>Калиниград</td>\n",
              "      <td>Furnishings</td>\n",
              "      <td>40155.940</td>\n",
              "    </tr>\n",
              "    <tr>\n",
              "      <th>14</th>\n",
              "      <td>7633</td>\n",
              "      <td>2018-12-29</td>\n",
              "      <td>Второй класс</td>\n",
              "      <td>Москва</td>\n",
              "      <td>Chairs</td>\n",
              "      <td>23831.500</td>\n",
              "    </tr>\n",
              "  </tbody>\n",
              "</table>\n",
              "</div>\n",
              "    <div class=\"colab-df-buttons\">\n",
              "\n",
              "  <div class=\"colab-df-container\">\n",
              "    <button class=\"colab-df-convert\" onclick=\"convertToInteractive('df-afa99734-824a-454c-ac9d-d035c2a4cdd3')\"\n",
              "            title=\"Convert this dataframe to an interactive table.\"\n",
              "            style=\"display:none;\">\n",
              "\n",
              "  <svg xmlns=\"http://www.w3.org/2000/svg\" height=\"24px\" viewBox=\"0 -960 960 960\">\n",
              "    <path d=\"M120-120v-720h720v720H120Zm60-500h600v-160H180v160Zm220 220h160v-160H400v160Zm0 220h160v-160H400v160ZM180-400h160v-160H180v160Zm440 0h160v-160H620v160ZM180-180h160v-160H180v160Zm440 0h160v-160H620v160Z\"/>\n",
              "  </svg>\n",
              "    </button>\n",
              "\n",
              "  <style>\n",
              "    .colab-df-container {\n",
              "      display:flex;\n",
              "      gap: 12px;\n",
              "    }\n",
              "\n",
              "    .colab-df-convert {\n",
              "      background-color: #E8F0FE;\n",
              "      border: none;\n",
              "      border-radius: 50%;\n",
              "      cursor: pointer;\n",
              "      display: none;\n",
              "      fill: #1967D2;\n",
              "      height: 32px;\n",
              "      padding: 0 0 0 0;\n",
              "      width: 32px;\n",
              "    }\n",
              "\n",
              "    .colab-df-convert:hover {\n",
              "      background-color: #E2EBFA;\n",
              "      box-shadow: 0px 1px 2px rgba(60, 64, 67, 0.3), 0px 1px 3px 1px rgba(60, 64, 67, 0.15);\n",
              "      fill: #174EA6;\n",
              "    }\n",
              "\n",
              "    .colab-df-buttons div {\n",
              "      margin-bottom: 4px;\n",
              "    }\n",
              "\n",
              "    [theme=dark] .colab-df-convert {\n",
              "      background-color: #3B4455;\n",
              "      fill: #D2E3FC;\n",
              "    }\n",
              "\n",
              "    [theme=dark] .colab-df-convert:hover {\n",
              "      background-color: #434B5C;\n",
              "      box-shadow: 0px 1px 3px 1px rgba(0, 0, 0, 0.15);\n",
              "      filter: drop-shadow(0px 1px 2px rgba(0, 0, 0, 0.3));\n",
              "      fill: #FFFFFF;\n",
              "    }\n",
              "  </style>\n",
              "\n",
              "    <script>\n",
              "      const buttonEl =\n",
              "        document.querySelector('#df-afa99734-824a-454c-ac9d-d035c2a4cdd3 button.colab-df-convert');\n",
              "      buttonEl.style.display =\n",
              "        google.colab.kernel.accessAllowed ? 'block' : 'none';\n",
              "\n",
              "      async function convertToInteractive(key) {\n",
              "        const element = document.querySelector('#df-afa99734-824a-454c-ac9d-d035c2a4cdd3');\n",
              "        const dataTable =\n",
              "          await google.colab.kernel.invokeFunction('convertToInteractive',\n",
              "                                                    [key], {});\n",
              "        if (!dataTable) return;\n",
              "\n",
              "        const docLinkHtml = 'Like what you see? Visit the ' +\n",
              "          '<a target=\"_blank\" href=https://colab.research.google.com/notebooks/data_table.ipynb>data table notebook</a>'\n",
              "          + ' to learn more about interactive tables.';\n",
              "        element.innerHTML = '';\n",
              "        dataTable['output_type'] = 'display_data';\n",
              "        await google.colab.output.renderOutput(dataTable, element);\n",
              "        const docLink = document.createElement('div');\n",
              "        docLink.innerHTML = docLinkHtml;\n",
              "        element.appendChild(docLink);\n",
              "      }\n",
              "    </script>\n",
              "  </div>\n",
              "\n",
              "\n",
              "<div id=\"df-a791874f-111e-4c18-93e2-e4652b9c2a77\">\n",
              "  <button class=\"colab-df-quickchart\" onclick=\"quickchart('df-a791874f-111e-4c18-93e2-e4652b9c2a77')\"\n",
              "            title=\"Suggest charts\"\n",
              "            style=\"display:none;\">\n",
              "\n",
              "<svg xmlns=\"http://www.w3.org/2000/svg\" height=\"24px\"viewBox=\"0 0 24 24\"\n",
              "     width=\"24px\">\n",
              "    <g>\n",
              "        <path d=\"M19 3H5c-1.1 0-2 .9-2 2v14c0 1.1.9 2 2 2h14c1.1 0 2-.9 2-2V5c0-1.1-.9-2-2-2zM9 17H7v-7h2v7zm4 0h-2V7h2v10zm4 0h-2v-4h2v4z\"/>\n",
              "    </g>\n",
              "</svg>\n",
              "  </button>\n",
              "\n",
              "<style>\n",
              "  .colab-df-quickchart {\n",
              "      --bg-color: #E8F0FE;\n",
              "      --fill-color: #1967D2;\n",
              "      --hover-bg-color: #E2EBFA;\n",
              "      --hover-fill-color: #174EA6;\n",
              "      --disabled-fill-color: #AAA;\n",
              "      --disabled-bg-color: #DDD;\n",
              "  }\n",
              "\n",
              "  [theme=dark] .colab-df-quickchart {\n",
              "      --bg-color: #3B4455;\n",
              "      --fill-color: #D2E3FC;\n",
              "      --hover-bg-color: #434B5C;\n",
              "      --hover-fill-color: #FFFFFF;\n",
              "      --disabled-bg-color: #3B4455;\n",
              "      --disabled-fill-color: #666;\n",
              "  }\n",
              "\n",
              "  .colab-df-quickchart {\n",
              "    background-color: var(--bg-color);\n",
              "    border: none;\n",
              "    border-radius: 50%;\n",
              "    cursor: pointer;\n",
              "    display: none;\n",
              "    fill: var(--fill-color);\n",
              "    height: 32px;\n",
              "    padding: 0;\n",
              "    width: 32px;\n",
              "  }\n",
              "\n",
              "  .colab-df-quickchart:hover {\n",
              "    background-color: var(--hover-bg-color);\n",
              "    box-shadow: 0 1px 2px rgba(60, 64, 67, 0.3), 0 1px 3px 1px rgba(60, 64, 67, 0.15);\n",
              "    fill: var(--button-hover-fill-color);\n",
              "  }\n",
              "\n",
              "  .colab-df-quickchart-complete:disabled,\n",
              "  .colab-df-quickchart-complete:disabled:hover {\n",
              "    background-color: var(--disabled-bg-color);\n",
              "    fill: var(--disabled-fill-color);\n",
              "    box-shadow: none;\n",
              "  }\n",
              "\n",
              "  .colab-df-spinner {\n",
              "    border: 2px solid var(--fill-color);\n",
              "    border-color: transparent;\n",
              "    border-bottom-color: var(--fill-color);\n",
              "    animation:\n",
              "      spin 1s steps(1) infinite;\n",
              "  }\n",
              "\n",
              "  @keyframes spin {\n",
              "    0% {\n",
              "      border-color: transparent;\n",
              "      border-bottom-color: var(--fill-color);\n",
              "      border-left-color: var(--fill-color);\n",
              "    }\n",
              "    20% {\n",
              "      border-color: transparent;\n",
              "      border-left-color: var(--fill-color);\n",
              "      border-top-color: var(--fill-color);\n",
              "    }\n",
              "    30% {\n",
              "      border-color: transparent;\n",
              "      border-left-color: var(--fill-color);\n",
              "      border-top-color: var(--fill-color);\n",
              "      border-right-color: var(--fill-color);\n",
              "    }\n",
              "    40% {\n",
              "      border-color: transparent;\n",
              "      border-right-color: var(--fill-color);\n",
              "      border-top-color: var(--fill-color);\n",
              "    }\n",
              "    60% {\n",
              "      border-color: transparent;\n",
              "      border-right-color: var(--fill-color);\n",
              "    }\n",
              "    80% {\n",
              "      border-color: transparent;\n",
              "      border-right-color: var(--fill-color);\n",
              "      border-bottom-color: var(--fill-color);\n",
              "    }\n",
              "    90% {\n",
              "      border-color: transparent;\n",
              "      border-bottom-color: var(--fill-color);\n",
              "    }\n",
              "  }\n",
              "</style>\n",
              "\n",
              "  <script>\n",
              "    async function quickchart(key) {\n",
              "      const quickchartButtonEl =\n",
              "        document.querySelector('#' + key + ' button');\n",
              "      quickchartButtonEl.disabled = true;  // To prevent multiple clicks.\n",
              "      quickchartButtonEl.classList.add('colab-df-spinner');\n",
              "      try {\n",
              "        const charts = await google.colab.kernel.invokeFunction(\n",
              "            'suggestCharts', [key], {});\n",
              "      } catch (error) {\n",
              "        console.error('Error during call to suggestCharts:', error);\n",
              "      }\n",
              "      quickchartButtonEl.classList.remove('colab-df-spinner');\n",
              "      quickchartButtonEl.classList.add('colab-df-quickchart-complete');\n",
              "    }\n",
              "    (() => {\n",
              "      let quickchartButtonEl =\n",
              "        document.querySelector('#df-a791874f-111e-4c18-93e2-e4652b9c2a77 button');\n",
              "      quickchartButtonEl.style.display =\n",
              "        google.colab.kernel.accessAllowed ? 'block' : 'none';\n",
              "    })();\n",
              "  </script>\n",
              "</div>\n",
              "    </div>\n",
              "  </div>\n"
            ],
            "application/vnd.google.colaboratory.intrinsic+json": {
              "type": "dataframe",
              "variable_name": "df",
              "summary": "{\n  \"name\": \"df\",\n  \"rows\": 9800,\n  \"fields\": [\n    {\n      \"column\": \"ID\",\n      \"properties\": {\n        \"dtype\": \"number\",\n        \"std\": 2829,\n        \"min\": 1,\n        \"max\": 9800,\n        \"num_unique_values\": 9800,\n        \"samples\": [\n          1493,\n          5249,\n          4836\n        ],\n        \"semantic_type\": \"\",\n        \"description\": \"\"\n      }\n    },\n    {\n      \"column\": \"Order Date\",\n      \"properties\": {\n        \"dtype\": \"date\",\n        \"min\": \"2015-01-03 00:00:00\",\n        \"max\": \"2018-12-30 00:00:00\",\n        \"num_unique_values\": 1230,\n        \"samples\": [\n          \"2017-04-22 00:00:00\",\n          \"2016-10-23 00:00:00\",\n          \"2018-04-08 00:00:00\"\n        ],\n        \"semantic_type\": \"\",\n        \"description\": \"\"\n      }\n    },\n    {\n      \"column\": \"Class\",\n      \"properties\": {\n        \"dtype\": \"category\",\n        \"num_unique_values\": 4,\n        \"samples\": [\n          \"\\u041f\\u0435\\u0440\\u0432\\u044b\\u0439 \\u043a\\u043b\\u0430\\u0441\\u0441\",\n          \"Same Day\",\n          \"\\u0421\\u0442\\u0430\\u043d\\u0434\\u0430\\u0440\\u0442\"\n        ],\n        \"semantic_type\": \"\",\n        \"description\": \"\"\n      }\n    },\n    {\n      \"column\": \"Region\",\n      \"properties\": {\n        \"dtype\": \"category\",\n        \"num_unique_values\": 4,\n        \"samples\": [\n          \"\\u0412\\u043b\\u0430\\u0434\\u0438\\u0432\\u043e\\u0441\\u0442\\u043e\\u043a\",\n          \"\\u041c\\u043e\\u0441\\u043a\\u0432\\u0430\",\n          \"\\u0423\\u0440\\u0430\\u043b\"\n        ],\n        \"semantic_type\": \"\",\n        \"description\": \"\"\n      }\n    },\n    {\n      \"column\": \"Sub-Category\",\n      \"properties\": {\n        \"dtype\": \"category\",\n        \"num_unique_values\": 17,\n        \"samples\": [\n          \"Appliances\",\n          \"Bookcases\",\n          \"Chairs\"\n        ],\n        \"semantic_type\": \"\",\n        \"description\": \"\"\n      }\n    },\n    {\n      \"column\": \"Sales\",\n      \"properties\": {\n        \"dtype\": \"number\",\n        \"std\": 12601.999815243944,\n        \"min\": 1002.794,\n        \"max\": 44995.41,\n        \"num_unique_values\": 9794,\n        \"samples\": [\n          25144.29,\n          9625.894,\n          4022.243\n        ],\n        \"semantic_type\": \"\",\n        \"description\": \"\"\n      }\n    }\n  ]\n}"
            }
          },
          "metadata": {},
          "execution_count": 39
        }
      ]
    },
    {
      "cell_type": "code",
      "source": [
        "df_1 = df['Sub-Category'].value_counts()\n",
        "top_4_groups = df_1.nlargest(4)\n",
        "top_4_groups.plot.barh(xlabel='количество', ylabel='подгруппа', title='Все время');"
      ],
      "metadata": {
        "colab": {
          "base_uri": "https://localhost:8080/",
          "height": 472
        },
        "id": "74fyWd73waVn",
        "outputId": "71d0cbc8-0501-47f7-cef3-390e33e29189"
      },
      "execution_count": 40,
      "outputs": [
        {
          "output_type": "display_data",
          "data": {
            "text/plain": [
              "<Figure size 640x480 with 1 Axes>"
            ],
            "image/png": "[encoded data removed]"
          },
          "metadata": {}
        }
      ]
    },
    {
      "cell_type": "code",
      "source": [
        "#Ищем годы, которые представленны в датафрейме\n",
        "dates = df.groupby(df['Order Date'].dt.year).count().index.values\n",
        "dates"
      ],
      "metadata": {
        "colab": {
          "base_uri": "https://localhost:8080/"
        },
        "id": "bOixxQ8IxppS",
        "outputId": "037f0702-030e-4269-9980-6abf37e0414d"
      },
      "execution_count": 41,
      "outputs": [
        {
          "output_type": "execute_result",
          "data": {
            "text/plain": [
              "array([2015, 2016, 2017, 2018], dtype=int32)"
            ]
          },
          "metadata": {},
          "execution_count": 41
        }
      ]
    },
    {
      "cell_type": "code",
      "source": [
        "df_last_2years = df[df['Order Date'].dt.year >= dates[-2]]\n",
        "df_2 = df_last_2years['Sub-Category'].value_counts()\n",
        "top_4_for_2_years = df_2.nlargest(4)\n",
        "\n",
        "top_4_for_2_years.plot.barh(xlabel='количество', ylabel='подгруппа', title='Последние 2 года');"
      ],
      "metadata": {
        "colab": {
          "base_uri": "https://localhost:8080/",
          "height": 472
        },
        "id": "D5-em9tuzUPa",
        "outputId": "b50eda5c-921e-41e2-fe10-d928fef039b7"
      },
      "execution_count": 42,
      "outputs": [
        {
          "output_type": "display_data",
          "data": {
            "text/plain": [
              "<Figure size 640x480 with 1 Axes>"
            ],
            "image/png": "[encoded data removed]"
          },
          "metadata": {}
        }
      ]
    },
    {
      "cell_type": "code",
      "source": [
        "df_last_year = df[df['Order Date'].dt.year >= dates[-1]]\n",
        "df_3 = df_last_year['Sub-Category'].value_counts()\n",
        "top_4_for_last_year = df_3.nlargest(4)\n",
        "\n",
        "top_4_for_last_year.plot.barh(xlabel='количество', ylabel='подгруппа', title='Последний год');\n"
      ],
      "metadata": {
        "colab": {
          "base_uri": "https://localhost:8080/",
          "height": 472
        },
        "id": "z0XxbuHK1_oW",
        "outputId": "4acc2dd4-9b56-44ed-8533-f23c92c256db"
      },
      "execution_count": 43,
      "outputs": [
        {
          "output_type": "display_data",
          "data": {
            "text/plain": [
              "<Figure size 640x480 with 1 Axes>"
            ],
            "image/png": "[encoded data removed]"
          },
          "metadata": {}
        }
      ]
    },
    {
      "cell_type": "markdown",
      "source": [
        "**Вывод:** Независимо от выборки лет самыми популярными категориями товаров были неизменно: Binders, papers, Furnishings, Phones.\n",
        "\n",
        "По графикам видно, что каждый год продается примерно одинаковое количество товаров увеличивается в этих группах."
      ],
      "metadata": {
        "id": "khwmVMlDRF2K"
      }
    },
    {
      "cell_type": "markdown",
      "source": [
        "## Задание 2"
      ],
      "metadata": {
        "id": "QaWQB9iiM-_V"
      }
    },
    {
      "cell_type": "code",
      "source": [
        "df['Sales'].describe()"
      ],
      "metadata": {
        "colab": {
          "base_uri": "https://localhost:8080/",
          "height": 335
        },
        "id": "D8YT7Z1-QmcL",
        "outputId": "58a7eb4c-28b8-4d7d-fede-d34a5fc1deea"
      },
      "execution_count": 44,
      "outputs": [
        {
          "output_type": "execute_result",
          "data": {
            "text/plain": [
              "count     9800.000000\n",
              "mean     22921.757737\n",
              "std      12601.999815\n",
              "min       1002.794000\n",
              "25%      12135.625000\n",
              "50%      22882.060000\n",
              "75%      33730.130000\n",
              "max      44995.410000\n",
              "Name: Sales, dtype: float64"
            ],
            "text/html": [
              "<div>\n",
              "<style scoped>\n",
              "    .dataframe tbody tr th:only-of-type {\n",
              "        vertical-align: middle;\n",
              "    }\n",
              "\n",
              "    .dataframe tbody tr th {\n",
              "        vertical-align: top;\n",
              "    }\n",
              "\n",
              "    .dataframe thead th {\n",
              "        text-align: right;\n",
              "    }\n",
              "</style>\n",
              "<table border=\"1\" class=\"dataframe\">\n",
              "  <thead>\n",
              "    <tr style=\"text-align: right;\">\n",
              "      <th></th>\n",
              "      <th>Sales</th>\n",
              "    </tr>\n",
              "  </thead>\n",
              "  <tbody>\n",
              "    <tr>\n",
              "      <th>count</th>\n",
              "      <td>9800.000000</td>\n",
              "    </tr>\n",
              "    <tr>\n",
              "      <th>mean</th>\n",
              "      <td>22921.757737</td>\n",
              "    </tr>\n",
              "    <tr>\n",
              "      <th>std</th>\n",
              "      <td>12601.999815</td>\n",
              "    </tr>\n",
              "    <tr>\n",
              "      <th>min</th>\n",
              "      <td>1002.794000</td>\n",
              "    </tr>\n",
              "    <tr>\n",
              "      <th>25%</th>\n",
              "      <td>12135.625000</td>\n",
              "    </tr>\n",
              "    <tr>\n",
              "      <th>50%</th>\n",
              "      <td>22882.060000</td>\n",
              "    </tr>\n",
              "    <tr>\n",
              "      <th>75%</th>\n",
              "      <td>33730.130000</td>\n",
              "    </tr>\n",
              "    <tr>\n",
              "      <th>max</th>\n",
              "      <td>44995.410000</td>\n",
              "    </tr>\n",
              "  </tbody>\n",
              "</table>\n",
              "</div><br><label><b>dtype:</b> float64</label>"
            ]
          },
          "metadata": {},
          "execution_count": 44
        }
      ]
    },
    {
      "cell_type": "code",
      "source": [
        "df['Sales'].plot.hist(bins=30)"
      ],
      "metadata": {
        "colab": {
          "base_uri": "https://localhost:8080/",
          "height": 449
        },
        "id": "rPyLA8ljNBQb",
        "outputId": "521d7087-b965-4065-a0a4-2097d8e0f77b"
      },
      "execution_count": 45,
      "outputs": [
        {
          "output_type": "execute_result",
          "data": {
            "text/plain": [
              "<Axes: ylabel='Frequency'>"
            ]
          },
          "metadata": {},
          "execution_count": 45
        },
        {
          "output_type": "display_data",
          "data": {
            "text/plain": [
              "<Figure size 640x480 with 1 Axes>"
            ],
            "image/png": "[encoded data removed]"
          },
          "metadata": {}
        }
      ]
    },
    {
      "cell_type": "code",
      "source": [
        "plt.figure(figsize=(8, 6))\n",
        "plt.boxplot(df['Sales'], showmeans=True)\n",
        "plt.title('Boxplot Продаж')\n",
        "plt.xlabel('Продажи')\n",
        "plt.show()"
      ],
      "metadata": {
        "colab": {
          "base_uri": "https://localhost:8080/",
          "height": 564
        },
        "id": "80tzLQTWPT8x",
        "outputId": "bac10afc-53d8-4e51-ddcb-7d8790aa6d8b"
      },
      "execution_count": 46,
      "outputs": [
        {
          "output_type": "display_data",
          "data": {
            "text/plain": [
              "<Figure size 800x600 with 1 Axes>"
            ],
            "image/png": "[encoded data removed]"
          },
          "metadata": {}
        }
      ]
    },
    {
      "cell_type": "markdown",
      "source": [
        "**Вывод:** все величины распредлены одинаково.\n",
        "Среднее значение величин: 22921.757737\n",
        "\n",
        "Никаких выбросов и аномалий не обнаружено"
      ],
      "metadata": {
        "id": "YXwXfkopQUEe"
      }
    },
    {
      "cell_type": "markdown",
      "source": [
        "## Задание 3"
      ],
      "metadata": {
        "id": "VjjWOy4cRAJ2"
      }
    },
    {
      "cell_type": "code",
      "source": [
        "#Разбиваем продажи на группы\n",
        "#Используем квантили для разделения данных на три равные части:\n",
        "df['Sale_group'] = pd.qcut(df['Sales'], q=3, labels=['Малые', 'Средние', 'Высокие'])\n",
        "\n",
        "#Группируем данные по региону и группе продаж\n",
        "grouped = df.groupby(['Region', 'Sale_group'])\n",
        "\n",
        "#Анализируем основные тенденции и паттерны\n",
        "#Сводная таблица:\n",
        "summary_table = grouped['Sales'].agg(['mean', 'count']);\n",
        "print(summary_table)\n",
        "\n",
        "#Визуализация:\n",
        "plt.figure(figsize=(10, 6))\n",
        "grouped['Sales'].mean().unstack().plot(kind='bar')\n",
        "plt.title('Средняя сумма продаж по группам в регионах')\n",
        "plt.xlabel('Регион')\n",
        "plt.ylabel('Средняя сумма продаж')\n",
        "plt.xticks(rotation=45)\n",
        "plt.legend(title='Sale_group')\n",
        "plt.show();\n",
        "\n"
      ],
      "metadata": {
        "colab": {
          "base_uri": "https://localhost:8080/",
          "height": 876
        },
        "id": "a1wy0Q4CRCSi",
        "outputId": "7bb006c4-0213-413e-9ec5-cfeebc941208"
      },
      "execution_count": 47,
      "outputs": [
        {
          "output_type": "stream",
          "name": "stdout",
          "text": [
            "                                mean  count\n",
            "Region      Sale_group                     \n",
            "Владивосток Малые        8286.515222    945\n",
            "            Средние     22974.767613    884\n",
            "            Высокие     37460.497312    956\n",
            "Калиниград  Малые        8548.667623   1038\n",
            "            Средние     23012.267795   1093\n",
            "            Высокие     37566.277532   1009\n",
            "Москва      Малые        8217.246938    518\n",
            "            Средние     22865.475168    536\n",
            "            Высокие     37461.806820    544\n",
            "Урал        Малые        8380.229930    766\n",
            "            Средние     22816.742855    753\n",
            "            Высокие     37280.111082    758\n"
          ]
        },
        {
          "output_type": "stream",
          "name": "stderr",
          "text": [
            "<ipython-input-47-8cf1d0f2ad8b>:6: FutureWarning: The default of observed=False is deprecated and will be changed to True in a future version of pandas. Pass observed=False to retain current behavior or observed=True to adopt the future default and silence this warning.\n",
            "  grouped = df.groupby(['Region', 'Sale_group'])\n"
          ]
        },
        {
          "output_type": "display_data",
          "data": {
            "text/plain": [
              "<Figure size 1000x600 with 0 Axes>"
            ]
          },
          "metadata": {}
        },
        {
          "output_type": "display_data",
          "data": {
            "text/plain": [
              "<Figure size 640x480 with 1 Axes>"
            ],
            "image/png": "[encoded data removed]"
          },
          "metadata": {}
        }
      ]
    },
    {
      "cell_type": "code",
      "source": [
        "#Выделяем наиболее \"прибыльную\" группу\n",
        "profit_by_group = grouped['Sales'].sum().unstack()\n",
        "most_profitable_group = profit_by_group.idxmax(axis=1)\n",
        "print(f\"Наиболее прибыльная группа в каждом регионе:\\n{most_profitable_group}\")"
      ],
      "metadata": {
        "colab": {
          "base_uri": "https://localhost:8080/"
        },
        "id": "L8xg6f2icLfM",
        "outputId": "efef3084-d748-4f62-95c5-9df341a1389e"
      },
      "execution_count": 48,
      "outputs": [
        {
          "output_type": "stream",
          "name": "stdout",
          "text": [
            "Наиболее прибыльная группа в каждом регионе:\n",
            "Region\n",
            "Владивосток    Высокие\n",
            "Калиниград     Высокие\n",
            "Москва         Высокие\n",
            "Урал           Высокие\n",
            "dtype: category\n",
            "Categories (3, object): ['Малые' < 'Средние' < 'Высокие']\n"
          ]
        }
      ]
    },
    {
      "cell_type": "markdown",
      "source": [
        "Все покупки были разбиты на три группы и сгруппированы по городам и группам.\n",
        "Графики выглядят правктически одинакого, что говорит о том, что в каждом городе похожая картина с продажами. В анализе не учитывались Классы(столбец Class)\n",
        "\n",
        "**Вывод:** по результат исследования было выявлено, что самыми прибыльными являются \"высокая\" подгруппа"
      ],
      "metadata": {
        "id": "Zqu1QragfQz-"
      }
    }
  ]
}